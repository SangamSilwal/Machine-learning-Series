{
  "nbformat": 4,
  "nbformat_minor": 0,
  "metadata": {
    "colab": {
      "provenance": [],
      "authorship_tag": "ABX9TyOE2p3VCSedBceBg6UG/VEu",
      "include_colab_link": true
    },
    "kernelspec": {
      "name": "python3",
      "display_name": "Python 3"
    },
    "language_info": {
      "name": "python"
    }
  },
  "cells": [
    {
      "cell_type": "markdown",
      "metadata": {
        "id": "view-in-github",
        "colab_type": "text"
      },
      "source": [
        "<a href=\"https://colab.research.google.com/github/SangamSilwal/Machine-learning-Series/blob/main/Decision_Tree_28.ipynb\" target=\"_parent\"><img src=\"https://colab.research.google.com/assets/colab-badge.svg\" alt=\"Open In Colab\"/></a>"
      ]
    },
    {
      "cell_type": "markdown",
      "source": [
        "# Hyperparameters in DecisionTreeClassifier\n",
        "\n",
        "1. Max_depth - It represent the maximum depth of the tree. Prevents the tree from growing too deep(overfitting)\n",
        "\n",
        "2. min_samples_split - It is the minimum number of samples required to split an internal node. (Larger value -> fewer split -> more general tree)\n",
        "\n",
        "3. min_samples_leaf - It is the minimum number of samples required to be at a leaf node. It ensures leaves arent too small. Higher value make the model more conservative\n",
        "\n",
        "4. max_leaf_nodes - It limits the number of the leaf nodes. If **None**, tree grow without this constraint.\n",
        "\n",
        "5. max_features - Number of the features to consider when looking for the best split.Options are : auto , sqrt , log2 or some integer or float\n",
        "\n",
        "6. criterion - It is the function to measure the quality of split. For classification \"gini\" or \"entropy\" .\n",
        "\n",
        "7. splitter - best or random"
      ],
      "metadata": {
        "id": "L3QToDekuhN8"
      }
    },
    {
      "cell_type": "markdown",
      "source": [
        "We can tune the above parameter using ***GridSearchCv*** or **RandomizedSearchCv**"
      ],
      "metadata": {
        "id": "jB7Wa-YRycUa"
      }
    },
    {
      "cell_type": "markdown",
      "source": [
        "***Visualizing Root node and leaf node***"
      ],
      "metadata": {
        "id": "IGk-IektxpgW"
      }
    },
    {
      "cell_type": "code",
      "source": [
        "#                  [Root Node: Is it Sunny?]\n",
        "#                  /                       \\\n",
        "#            Yes /                           \\ No\n",
        "#               /                             \\\n",
        "#      [Node: Is humidity > 70?]         [Leaf: Play Tennis]\n",
        "#           /         \\\n",
        "#    Yes /             \\ No\n",
        "#       /               \\\n",
        "#  [Leaf: Don't Play]   [Leaf: Play]\n"
      ],
      "metadata": {
        "id": "Ze6uNj0fxgR-"
      },
      "execution_count": 1,
      "outputs": []
    },
    {
      "cell_type": "code",
      "source": [
        "import pandas as pd\n",
        "import numpy as np\n",
        "import matplotlib.pyplot as plt\n",
        "from sklearn.tree import DecisionTreeClassifier\n",
        "from sklearn.model_selection import train_test_split"
      ],
      "metadata": {
        "id": "J-8tKNQlxmxO"
      },
      "execution_count": 3,
      "outputs": []
    },
    {
      "cell_type": "code",
      "source": [
        "from sklearn.datasets import load_breast_cancer\n",
        "X,y = load_breast_cancer(return_X_y=True)\n",
        "X_train,X_test,y_train,y_test = train_test_split(X,y,test_size=0.3,random_state=42)"
      ],
      "metadata": {
        "id": "sR47U_5tyKHz"
      },
      "execution_count": 4,
      "outputs": []
    },
    {
      "cell_type": "code",
      "source": [
        "dt = DecisionTreeClassifier(random_state=42)\n",
        "\n",
        "param_grid = {\n",
        "    'max_depth': [2,3,4,5,None],\n",
        "    'min_samples_split':[2,5,10],\n",
        "    'min_samples_leaf':[1,2,4],\n",
        "    'criterion':['gini','entropy']\n",
        "}\n",
        "\n",
        "# applying GridSearch\n",
        "from sklearn.model_selection import GridSearchCV\n",
        "grid_search = GridSearchCV(estimator=dt,param_grid=param_grid,cv=10,scoring='accuracy',n_jobs=-1)\n",
        "grid_search.fit(X_train,y_train)\n",
        "\n",
        "print(\"Best Parameters: \",grid_search.best_params_)\n",
        "print(\"Best Score: \",grid_search.best_score_)\n",
        "print(\"test accuracy: \",grid_search.score(X_test,y_test))"
      ],
      "metadata": {
        "colab": {
          "base_uri": "https://localhost:8080/"
        },
        "id": "fgg3wlxD0qNJ",
        "outputId": "9b9e3b37-92f1-46bd-86c6-dd5c85687491"
      },
      "execution_count": 13,
      "outputs": [
        {
          "output_type": "stream",
          "name": "stdout",
          "text": [
            "Best Parameters:  {'criterion': 'entropy', 'max_depth': 5, 'min_samples_leaf': 2, 'min_samples_split': 10}\n",
            "Best Score:  0.9419871794871796\n",
            "test accuracy:  0.9590643274853801\n"
          ]
        }
      ]
    },
    {
      "cell_type": "code",
      "source": [],
      "metadata": {
        "id": "ujzVrEtp6rDT"
      },
      "execution_count": null,
      "outputs": []
    }
  ]
}