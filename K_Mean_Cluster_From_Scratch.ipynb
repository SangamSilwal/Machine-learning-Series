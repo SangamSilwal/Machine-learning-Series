{
  "nbformat": 4,
  "nbformat_minor": 0,
  "metadata": {
    "colab": {
      "provenance": [],
      "authorship_tag": "ABX9TyPCzLGL+YXNLij8bqyVwGUv",
      "include_colab_link": true
    },
    "kernelspec": {
      "name": "python3",
      "display_name": "Python 3"
    },
    "language_info": {
      "name": "python"
    }
  },
  "cells": [
    {
      "cell_type": "markdown",
      "metadata": {
        "id": "view-in-github",
        "colab_type": "text"
      },
      "source": [
        "<a href=\"https://colab.research.google.com/github/SangamSilwal/Machine-learning-Series/blob/main/K_Mean_Cluster_From_Scratch.ipynb\" target=\"_parent\"><img src=\"https://colab.research.google.com/assets/colab-badge.svg\" alt=\"Open In Colab\"/></a>"
      ]
    },
    {
      "cell_type": "code",
      "source": [
        "import random\n",
        "import numpy as np"
      ],
      "metadata": {
        "id": "S6XQIQhyOArm"
      },
      "execution_count": 4,
      "outputs": []
    },
    {
      "cell_type": "code",
      "execution_count": 56,
      "metadata": {
        "id": "24licBfKKANQ"
      },
      "outputs": [],
      "source": [
        "class KMeans:\n",
        "  def __init__(self,n_clusters=2,max_iter=100):\n",
        "    self.n_clusters = n_clusters\n",
        "    self.max_iter = max_iter\n",
        "    self.centroids = None\n",
        "\n",
        "  def fit_predict(self,X):\n",
        "\n",
        "    random_index = random.sample(range(0,X.shape[0]),self.n_clusters)\n",
        "    self.centroids = X[random_index]\n",
        "    print(self.centroids)\n",
        "\n",
        "    for i in range(self.max_iter):\n",
        "        cluster_group = self.assign_clusters(X)\n",
        "        old_centroids = self.centroids\n",
        "        self.centroids = self.move_centroids(X,cluster_group)\n",
        "        if (old_centroids == self.centroids).all():\n",
        "          break\n",
        "    return cluster_group\n",
        "\n",
        "\n",
        "  def assign_clusters(self,X):\n",
        "    cluster_group = []\n",
        "    distances = []\n",
        "    for row in X:\n",
        "      for centroid in self.centroids:\n",
        "        distances.append(np.sqrt(np.dot(row-centroid,row-centroid)))\n",
        "      min_distance = min(distances)\n",
        "      index_pos = distances.index(min_distance)\n",
        "      cluster_group.append(index_pos)\n",
        "      distances.clear()\n",
        "\n",
        "    return np.array(cluster_group)\n",
        "\n",
        "  def move_centroids(self,X,cluster_group):\n",
        "    new_centroids = []\n",
        "    cluster_type = np.unique(cluster_group)\n",
        "    for type in cluster_type:\n",
        "      new_centroids.append(X[cluster_group==type].mean(axis=0))\n",
        "\n",
        "    return np.array(new_centroids)\n"
      ]
    },
    {
      "cell_type": "code",
      "source": [
        "X = np.array([[1,2,3],[3,4,5]])\n",
        "km = KMeans()\n",
        "km.fit_predict(X)\n"
      ],
      "metadata": {
        "colab": {
          "base_uri": "https://localhost:8080/"
        },
        "id": "YSafW_mPOR6k",
        "outputId": "2465f81e-1ee6-4b09-a35f-f07e86356a25"
      },
      "execution_count": 57,
      "outputs": [
        {
          "output_type": "stream",
          "name": "stdout",
          "text": [
            "[[1 2 3]\n",
            " [3 4 5]]\n"
          ]
        },
        {
          "output_type": "execute_result",
          "data": {
            "text/plain": [
              "array([0, 1])"
            ]
          },
          "metadata": {},
          "execution_count": 57
        }
      ]
    },
    {
      "cell_type": "code",
      "source": [
        "x = [[4,9,0],[4,0,6]]\n",
        "min(x)\n"
      ],
      "metadata": {
        "colab": {
          "base_uri": "https://localhost:8080/"
        },
        "id": "OQ3pppFjO-bK",
        "outputId": "c52d410f-b576-48de-82e3-eb7158ee4329"
      },
      "execution_count": 27,
      "outputs": [
        {
          "output_type": "execute_result",
          "data": {
            "text/plain": [
              "[4, 0, 6]"
            ]
          },
          "metadata": {},
          "execution_count": 27
        }
      ]
    },
    {
      "cell_type": "code",
      "source": [],
      "metadata": {
        "id": "W1e8hrdEQHph"
      },
      "execution_count": null,
      "outputs": []
    }
  ]
}